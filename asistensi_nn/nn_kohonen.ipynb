{
 "cells": [
  {
   "cell_type": "markdown",
   "metadata": {},
   "source": [
    "# Self Organizing Maps (SOM) / Kohonen"
   ]
  },
  {
   "cell_type": "code",
   "execution_count": null,
   "metadata": {},
   "outputs": [],
   "source": [
    "#Import Dependencies\n",
    "import numpy as np\n",
    "import pandas as pd\n",
    "import matplotlib.pyplot as plt"
   ]
  },
  {
   "cell_type": "code",
   "execution_count": null,
   "metadata": {},
   "outputs": [],
   "source": [
    "#Inisiasi Data Point\n",
    "X = np.array([[0,0],[2,0],\n",
    "              [0,2],[2,2],\n",
    "              [4,4],[6,4],\n",
    "              [4,6],[6,6]\n",
    "              ])\n",
    "cluster_origin = np.array([[3,2], [4,3]], dtype=float)\n",
    "#cluster_origin = np.random.uniform(low=np.min(X, axis=0), high=np.max(X, axis=0), size=(2, 2))\n",
    "iteration = 5\n",
    "alpha = 0.6 #Laju pemahaman awal\n",
    "multiplier = 0.5 #Faktor penurunan"
   ]
  },
  {
   "cell_type": "code",
   "execution_count": null,
   "metadata": {},
   "outputs": [],
   "source": [
    "x_coords = X[:, 0]\n",
    "y_coords = X[:, 1]\n",
    "x_cluster = cluster_origin[:,0]\n",
    "y_cluster = cluster_origin[:,1]\n",
    "\n",
    "plt.scatter(x_coords, y_coords)\n",
    "plt.scatter(x_cluster, y_cluster)\n",
    "\n",
    "plt.xlabel('X')\n",
    "plt.ylabel('Y')\n",
    "\n",
    "plt.grid(True)\n",
    "plt.show()"
   ]
  },
  {
   "cell_type": "code",
   "execution_count": null,
   "metadata": {},
   "outputs": [],
   "source": [
    "idx = []\n",
    "iter_idx = []\n",
    "alpha_idx = []\n",
    "data_point = []\n",
    "w1x = []\n",
    "w1y = []\n",
    "w2x = []\n",
    "w2y = []\n",
    "d1 = []\n",
    "d2 = []\n",
    "closest_centroid = []\n",
    "c1_dist_change = []\n",
    "c2_dist_change = []"
   ]
  },
  {
   "cell_type": "code",
   "execution_count": null,
   "metadata": {},
   "outputs": [],
   "source": [
    "def SOM(x, initial_centroids, num_iter, learning_rate, multiplier):\n",
    "    centroids = initial_centroids.copy() #Digunakan agar tidak mengubah nilai initial centroid\n",
    "    K = centroids.shape[0] #Mengambil dimensi centroid sebagai dasar iterasi\n",
    "    n = 1 #Inisiasi nilai n\n",
    "    iterasi = 0 #Inisiasi iterasi\n",
    "    for i in range(num_iter):\n",
    "    #For terluar untuk mencatat iterasi/perulangan setiap batch (Disebut sebagai iterasi)\n",
    "        print(f\"\\nIterasi ke {i+1} / {num_iter}\")\n",
    "\n",
    "        iterasi += 1\n",
    "\n",
    "        for j in range(x.shape[0]):\n",
    "        #For kedua untuk mencatat iterasi setiap data point (Disebut sebagai step)\n",
    "            idx.append(n)\n",
    "            iter_idx.append(iterasi)\n",
    "            alpha_idx.append(learning_rate)\n",
    "            data_point.append(X[j])\n",
    "            w1x.append(centroids[0][0].copy())\n",
    "            w1y.append(centroids[0][1].copy())\n",
    "            w2x.append(centroids[1][0].copy())\n",
    "            w2y.append(centroids[1][1].copy())\n",
    "            print(f\"\\nStep {n}\")\n",
    "\n",
    "            n += 1\n",
    "            distances = np.linalg.norm(x[j] - centroids, axis=1, ord=2) #Menghitung jarak data point menuju seluruh centroid\n",
    "            closest_centroids_idx = np.argmin(distances) #Memilih centroid dengan jarak terdekat\n",
    "            prev_centroids = centroids.copy()\n",
    "\n",
    "            d1.append(distances[0])\n",
    "            d2.append(distances[1])\n",
    "\n",
    "            print(f\"\\nJarak X{j+1} ke centroid terdekat (W{closest_centroids_idx+1}) = {distances[closest_centroids_idx]}\")\n",
    "            for k in range(K):\n",
    "            #For ketiga untuk mengubah posisi centroid yang terdekat dengan data point \n",
    "                if k == closest_centroids_idx:\n",
    "                    closest_centroid.append((closest_centroids_idx)+1)\n",
    "\n",
    "                    centroids[k] += learning_rate * (x[j] - centroids[k]) #Reposisi centroid baru berdasarkan learning rate alpha (learning_rate)\n",
    "                    dist_change = np.linalg.norm(centroids[k] - prev_centroids[k], ord=2) #Menghitung selisih jarak centroid lama dan baru\n",
    "\n",
    "                    print(f\"\\nKoordinat W{k+1} baru = {centroids[k]}\")\n",
    "                    print(f\"\\nJarak W{k+1} ke W{k+1}` = {dist_change}\")\n",
    "                    \n",
    "            c1_dist_change.append(np.linalg.norm(prev_centroids[0] - centroids[0]))\n",
    "            c2_dist_change.append(np.linalg.norm(prev_centroids[1] - centroids[1]))\n",
    "            \n",
    "        learning_rate = learning_rate * multiplier #learning_rate disesuaikan setelah satu iterasi selesai dilakukan\n",
    "        \n",
    "        print(f\"Koordinat akhir W1 dan W2 setelah iterasi ke-{n-1}:\")\n",
    "        print(centroids)\n",
    "    return centroids"
   ]
  },
  {
   "cell_type": "code",
   "execution_count": null,
   "metadata": {},
   "outputs": [],
   "source": [
    "results = SOM(X, cluster_origin, iteration, alpha, multiplier)"
   ]
  },
  {
   "cell_type": "code",
   "execution_count": null,
   "metadata": {},
   "outputs": [],
   "source": [
    "x_coords = X[:, 0]\n",
    "y_coords = X[:, 1]\n",
    "w1 = np.array([[w1x,w1y]], dtype=float)\n",
    "w2 = np.array([[w2x,w2y]], dtype=float)\n",
    "x_1 = w1[:,0]\n",
    "y_1 = w1[:,1]\n",
    "x_2 = w2[:,0]\n",
    "y_2 = w2[:,1]\n",
    "\n",
    "plt.scatter(x_coords, y_coords, color='orange', label='Data Points')\n",
    "plt.scatter(x_1, y_1, color='green', label='Centroid 1')\n",
    "plt.scatter(x_2, y_2, color='blue', label='Centroid 2')\n",
    "plt.scatter(x_1[0,-1], y_1[0,-1], color='red', label='Final Centroid 1')\n",
    "plt.scatter(x_2[0,-1], y_2[0,-1], color='red', label='Final Centroid 2')\n",
    "\n",
    "plt.xlabel('X')\n",
    "plt.ylabel('Y')\n",
    "plt.legend()\n",
    "plt.grid(True)\n",
    "plt.show()"
   ]
  },
  {
   "cell_type": "code",
   "execution_count": null,
   "metadata": {},
   "outputs": [],
   "source": [
    "df_dict = {'No.': idx,\n",
    "           'Iterasi': iter_idx,\n",
    "           'X': data_point,\n",
    "           'Alpha': alpha_idx,\n",
    "           'W1x': w1x,\n",
    "           'W1y': w1y,\n",
    "           'W2x': w2x,\n",
    "           'W2y': w2y,\n",
    "           'D1' : d1,\n",
    "           'D2' : d2,\n",
    "           'Centroid Terdekat': closest_centroid,\n",
    "           'Jarak W1 ke W1`': c1_dist_change,\n",
    "           'Jarak W2 ke W2`': c2_dist_change,\n",
    "           }\n",
    "df = pd.DataFrame(df_dict)\n",
    "df"
   ]
  }
 ],
 "metadata": {
  "kernelspec": {
   "display_name": "Python 3",
   "language": "python",
   "name": "python3"
  },
  "language_info": {
   "codemirror_mode": {
    "name": "ipython",
    "version": 3
   },
   "file_extension": ".py",
   "mimetype": "text/x-python",
   "name": "python",
   "nbconvert_exporter": "python",
   "pygments_lexer": "ipython3",
   "version": "3.9.0"
  }
 },
 "nbformat": 4,
 "nbformat_minor": 2
}
