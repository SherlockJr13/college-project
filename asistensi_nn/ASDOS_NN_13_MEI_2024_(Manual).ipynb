{
  "cells": [
    {
      "cell_type": "code",
      "execution_count": 1,
      "metadata": {
        "id": "6FZebMvK63QS"
      },
      "outputs": [],
      "source": [
        "import numpy as np\n",
        "import pandas as pd\n",
        "import matplotlib.pyplot as plt\n",
        "from sklearn import preprocessing\n",
        "from sklearn.model_selection import train_test_split"
      ]
    },
    {
      "cell_type": "code",
      "execution_count": 2,
      "metadata": {
        "colab": {
          "base_uri": "https://localhost:8080/",
          "height": 423
        },
        "id": "qHGIS-YR7Ck-",
        "outputId": "f39ff619-d7b6-4457-acb7-8db53d4cb23b"
      },
      "outputs": [
        {
          "data": {
            "text/html": [
              "<div>\n",
              "<style scoped>\n",
              "    .dataframe tbody tr th:only-of-type {\n",
              "        vertical-align: middle;\n",
              "    }\n",
              "\n",
              "    .dataframe tbody tr th {\n",
              "        vertical-align: top;\n",
              "    }\n",
              "\n",
              "    .dataframe thead th {\n",
              "        text-align: right;\n",
              "    }\n",
              "</style>\n",
              "<table border=\"1\" class=\"dataframe\">\n",
              "  <thead>\n",
              "    <tr style=\"text-align: right;\">\n",
              "      <th></th>\n",
              "      <th>YearBuilt</th>\n",
              "      <th>2ndFlrSF</th>\n",
              "      <th>GrLivArea</th>\n",
              "      <th>FullBath</th>\n",
              "      <th>HalfBath</th>\n",
              "      <th>BedroomAbvGr</th>\n",
              "      <th>TotRmsAbvGrd</th>\n",
              "      <th>YrSold</th>\n",
              "      <th>SalePrice</th>\n",
              "    </tr>\n",
              "  </thead>\n",
              "  <tbody>\n",
              "    <tr>\n",
              "      <th>0</th>\n",
              "      <td>2003</td>\n",
              "      <td>854</td>\n",
              "      <td>1710</td>\n",
              "      <td>2</td>\n",
              "      <td>1</td>\n",
              "      <td>3</td>\n",
              "      <td>8</td>\n",
              "      <td>2008</td>\n",
              "      <td>208500</td>\n",
              "    </tr>\n",
              "    <tr>\n",
              "      <th>1</th>\n",
              "      <td>1976</td>\n",
              "      <td>0</td>\n",
              "      <td>1262</td>\n",
              "      <td>2</td>\n",
              "      <td>0</td>\n",
              "      <td>3</td>\n",
              "      <td>6</td>\n",
              "      <td>2007</td>\n",
              "      <td>181500</td>\n",
              "    </tr>\n",
              "    <tr>\n",
              "      <th>2</th>\n",
              "      <td>2001</td>\n",
              "      <td>866</td>\n",
              "      <td>1786</td>\n",
              "      <td>2</td>\n",
              "      <td>1</td>\n",
              "      <td>3</td>\n",
              "      <td>6</td>\n",
              "      <td>2008</td>\n",
              "      <td>223500</td>\n",
              "    </tr>\n",
              "    <tr>\n",
              "      <th>3</th>\n",
              "      <td>1915</td>\n",
              "      <td>756</td>\n",
              "      <td>1717</td>\n",
              "      <td>1</td>\n",
              "      <td>0</td>\n",
              "      <td>3</td>\n",
              "      <td>7</td>\n",
              "      <td>2006</td>\n",
              "      <td>140000</td>\n",
              "    </tr>\n",
              "    <tr>\n",
              "      <th>4</th>\n",
              "      <td>2000</td>\n",
              "      <td>1053</td>\n",
              "      <td>2198</td>\n",
              "      <td>2</td>\n",
              "      <td>1</td>\n",
              "      <td>4</td>\n",
              "      <td>9</td>\n",
              "      <td>2008</td>\n",
              "      <td>250000</td>\n",
              "    </tr>\n",
              "    <tr>\n",
              "      <th>...</th>\n",
              "      <td>...</td>\n",
              "      <td>...</td>\n",
              "      <td>...</td>\n",
              "      <td>...</td>\n",
              "      <td>...</td>\n",
              "      <td>...</td>\n",
              "      <td>...</td>\n",
              "      <td>...</td>\n",
              "      <td>...</td>\n",
              "    </tr>\n",
              "    <tr>\n",
              "      <th>1455</th>\n",
              "      <td>1999</td>\n",
              "      <td>694</td>\n",
              "      <td>1647</td>\n",
              "      <td>2</td>\n",
              "      <td>1</td>\n",
              "      <td>3</td>\n",
              "      <td>7</td>\n",
              "      <td>2007</td>\n",
              "      <td>175000</td>\n",
              "    </tr>\n",
              "    <tr>\n",
              "      <th>1456</th>\n",
              "      <td>1978</td>\n",
              "      <td>0</td>\n",
              "      <td>2073</td>\n",
              "      <td>2</td>\n",
              "      <td>0</td>\n",
              "      <td>3</td>\n",
              "      <td>7</td>\n",
              "      <td>2010</td>\n",
              "      <td>210000</td>\n",
              "    </tr>\n",
              "    <tr>\n",
              "      <th>1457</th>\n",
              "      <td>1941</td>\n",
              "      <td>1152</td>\n",
              "      <td>2340</td>\n",
              "      <td>2</td>\n",
              "      <td>0</td>\n",
              "      <td>4</td>\n",
              "      <td>9</td>\n",
              "      <td>2010</td>\n",
              "      <td>266500</td>\n",
              "    </tr>\n",
              "    <tr>\n",
              "      <th>1458</th>\n",
              "      <td>1950</td>\n",
              "      <td>0</td>\n",
              "      <td>1078</td>\n",
              "      <td>1</td>\n",
              "      <td>0</td>\n",
              "      <td>2</td>\n",
              "      <td>5</td>\n",
              "      <td>2010</td>\n",
              "      <td>142125</td>\n",
              "    </tr>\n",
              "    <tr>\n",
              "      <th>1459</th>\n",
              "      <td>1965</td>\n",
              "      <td>0</td>\n",
              "      <td>1256</td>\n",
              "      <td>1</td>\n",
              "      <td>1</td>\n",
              "      <td>3</td>\n",
              "      <td>6</td>\n",
              "      <td>2008</td>\n",
              "      <td>147500</td>\n",
              "    </tr>\n",
              "  </tbody>\n",
              "</table>\n",
              "<p>1460 rows × 9 columns</p>\n",
              "</div>"
            ],
            "text/plain": [
              "      YearBuilt  2ndFlrSF  GrLivArea  FullBath  HalfBath  BedroomAbvGr  \\\n",
              "0          2003       854       1710         2         1             3   \n",
              "1          1976         0       1262         2         0             3   \n",
              "2          2001       866       1786         2         1             3   \n",
              "3          1915       756       1717         1         0             3   \n",
              "4          2000      1053       2198         2         1             4   \n",
              "...         ...       ...        ...       ...       ...           ...   \n",
              "1455       1999       694       1647         2         1             3   \n",
              "1456       1978         0       2073         2         0             3   \n",
              "1457       1941      1152       2340         2         0             4   \n",
              "1458       1950         0       1078         1         0             2   \n",
              "1459       1965         0       1256         1         1             3   \n",
              "\n",
              "      TotRmsAbvGrd  YrSold  SalePrice  \n",
              "0                8    2008     208500  \n",
              "1                6    2007     181500  \n",
              "2                6    2008     223500  \n",
              "3                7    2006     140000  \n",
              "4                9    2008     250000  \n",
              "...            ...     ...        ...  \n",
              "1455             7    2007     175000  \n",
              "1456             7    2010     210000  \n",
              "1457             9    2010     266500  \n",
              "1458             5    2010     142125  \n",
              "1459             6    2008     147500  \n",
              "\n",
              "[1460 rows x 9 columns]"
            ]
          },
          "execution_count": 2,
          "metadata": {},
          "output_type": "execute_result"
        }
      ],
      "source": [
        "df=pd.read_csv('E:\\ASISTENSI NN\\HousingPrices.csv')\n",
        "df"
      ]
    },
    {
      "cell_type": "code",
      "execution_count": 3,
      "metadata": {
        "id": "uJnb2NQn7Cnn"
      },
      "outputs": [],
      "source": [
        "X = df.drop(columns=['SalePrice'])\n",
        "Y = df[['SalePrice']]"
      ]
    },
    {
      "cell_type": "code",
      "execution_count": 4,
      "metadata": {
        "colab": {
          "base_uri": "https://localhost:8080/"
        },
        "id": "ELVXEjpZCnO6",
        "outputId": "45efb2e1-b85d-4a0a-c1a1-f520931a48c7"
      },
      "outputs": [
        {
          "data": {
            "text/plain": [
              "array([[0.02761715],\n",
              "       [0.02404083],\n",
              "       [0.02960399],\n",
              "       ...,\n",
              "       [0.03529961],\n",
              "       [0.01882536],\n",
              "       [0.01953731]])"
            ]
          },
          "execution_count": 4,
          "metadata": {},
          "output_type": "execute_result"
        }
      ],
      "source": [
        "Y = np.array(Y)\n",
        "Y = np.transpose(Y)\n",
        "Y = preprocessing.normalize(Y)\n",
        "Y = np.transpose(Y)\n",
        "Y"
      ]
    },
    {
      "cell_type": "code",
      "execution_count": 5,
      "metadata": {
        "colab": {
          "base_uri": "https://localhost:8080/"
        },
        "id": "LLlvd1QlCnUk",
        "outputId": "dd577597-bbf8-4a8a-90ab-efcd753803a0"
      },
      "outputs": [
        {
          "data": {
            "text/plain": [
              "array([[0.02658936, 0.04008849, 0.02790204, ..., 0.0263452 , 0.03116878,\n",
              "        0.02617359],\n",
              "       [0.02623095, 0.        , 0.02059203, ..., 0.0263452 , 0.02337658,\n",
              "        0.02616056],\n",
              "       [0.02656281, 0.0406518 , 0.02914213, ..., 0.0263452 , 0.02337658,\n",
              "        0.02617359],\n",
              "       ...,\n",
              "       [0.02576633, 0.05407722, 0.03818174, ..., 0.03512693, 0.03506488,\n",
              "        0.02619966],\n",
              "       [0.0258858 , 0.        , 0.01758971, ..., 0.01756347, 0.01948049,\n",
              "        0.02619966],\n",
              "       [0.02608492, 0.        , 0.02049413, ..., 0.0263452 , 0.02337658,\n",
              "        0.02617359]])"
            ]
          },
          "execution_count": 5,
          "metadata": {},
          "output_type": "execute_result"
        }
      ],
      "source": [
        "X = np.array(X)\n",
        "X = np.transpose(X)\n",
        "X = preprocessing.normalize(X)\n",
        "X = np.transpose(X)\n",
        "X"
      ]
    },
    {
      "cell_type": "code",
      "execution_count": 6,
      "metadata": {},
      "outputs": [],
      "source": [
        "x_train, x_test, y_train, y_test = train_test_split(X, Y, test_size=0.2, random_state=1)"
      ]
    },
    {
      "cell_type": "code",
      "execution_count": 7,
      "metadata": {
        "colab": {
          "base_uri": "https://localhost:8080/"
        },
        "id": "9tP_yRMp7Cu7",
        "outputId": "42bbf9d4-6a20-4150-9659-5c375270b157"
      },
      "outputs": [
        {
          "data": {
            "text/plain": [
              "array([[ 1.62434536],\n",
              "       [-0.61175641],\n",
              "       [-0.52817175],\n",
              "       [-1.07296862],\n",
              "       [ 0.86540763],\n",
              "       [-2.3015387 ],\n",
              "       [ 1.74481176],\n",
              "       [-0.7612069 ]])"
            ]
          },
          "execution_count": 7,
          "metadata": {},
          "output_type": "execute_result"
        }
      ],
      "source": [
        "lr = 0.01\n",
        "np.random.seed(1)\n",
        "w = np.array([\n",
        "np.random.randn(1),\n",
        "np.random.randn(1),\n",
        "np.random.randn(1),\n",
        "np.random.randn(1),\n",
        "np.random.randn(1),\n",
        "np.random.randn(1),\n",
        "np.random.randn(1),\n",
        "np.random.randn(1),\n",
        "])\n",
        "w"
      ]
    },
    {
      "cell_type": "code",
      "execution_count": 8,
      "metadata": {
        "colab": {
          "base_uri": "https://localhost:8080/"
        },
        "id": "y71XP8UT8NQV",
        "outputId": "02f27be8-db00-4106-dd93-2e3cc5c2b4d7"
      },
      "outputs": [
        {
          "name": "stdout",
          "output_type": "stream",
          "text": [
            "Adjusted weight:  [[ 1.65552822 -0.58661808 -0.49504286 -1.03941246  0.8819706  -2.26847024\n",
            "   1.77754069 -0.73006275]] \n",
            "Error:  0.003371311169052368\n",
            "Adjusted weight:  [[ 1.68327382 -0.56418451 -0.46542068 -1.00929544  0.89600598 -2.23887631\n",
            "   1.80674548 -0.70235283]] \n",
            "Error:  0.0027853578704228996\n",
            "Adjusted weight:  [[ 1.70795711 -0.54415757 -0.43892214 -0.98224269  0.90779613 -2.21237771\n",
            "   1.83281084 -0.67770255]] \n",
            "Error:  0.0023196501371311783\n",
            "Adjusted weight:  [[ 1.72991206 -0.52627183 -0.4152061  -0.95792031  0.91759246 -2.18863675\n",
            "   1.85607938 -0.65577826]] \n",
            "Error:  0.0019493299517288328\n",
            "Adjusted weight:  [[ 1.74943609 -0.5102909  -0.39396871 -0.93603096  0.92561883 -2.16735264\n",
            "   1.87685624 -0.63628281]] \n",
            "Error:  0.0016546808750548766\n",
            "Adjusted weight:  [[ 1.76679411 -0.49600431 -0.37493937 -0.91630978  0.93207454 -2.14825752\n",
            "   1.89541318 -0.61895153]] \n",
            "Error:  0.0014200645195785438\n",
            "Adjusted weight:  [[ 1.78222206 -0.48322465 -0.35787709 -0.8985209   0.93713703 -2.13111282\n",
            "   1.91199223 -0.60354871]] \n",
            "Error:  0.0012330770126061125\n",
            "Adjusted weight:  [[ 1.79593008 -0.47178505 -0.34256724 -0.88245422  0.94096426 -2.11570604\n",
            "   1.92680898 -0.5898644 ]] \n",
            "Error:  0.0010838799445495294\n",
            "Adjusted weight:  [[ 1.80810534 -0.46153695 -0.32881865 -0.86792264  0.94369688 -2.10184794\n",
            "   1.9400554  -0.5777116 ]] \n",
            "Error:  0.000964669710102715\n",
            "Adjusted weight:  [[ 1.81891454 -0.45234804 -0.31646109 -0.8547595   0.94546006 -2.08936998\n",
            "   1.95190249 -0.56692377]] \n",
            "Error:  0.0008692566158174356\n",
            "Adjusted weight:  [[ 1.82850616 -0.44410058 -0.30534292 -0.84281637  0.94636525 -2.07812203\n",
            "   1.96250256 -0.55735257]] \n",
            "Error:  0.000792731048951063\n",
            "Adjusted weight:  [[ 1.83701246 -0.43668968 -0.2953291  -0.83196104  0.94651164 -2.06797039\n",
            "   1.97199124 -0.54886586]] \n",
            "Error:  0.0007311986990040421\n",
            "Adjusted weight:  [[ 1.84455123 -0.43002202 -0.28629937 -0.82207576  0.94598752 -2.05879597\n",
            "   1.98048934 -0.54134595]] \n",
            "Error:  0.000681570548432074\n",
            "Adjusted weight:  [[ 1.8512274  -0.42401449 -0.27814662 -0.81305564  0.94487146 -2.05049271\n",
            "   1.98810446 -0.53468802]] \n",
            "Error:  0.0006413963035566678\n",
            "Adjusted weight:  [[ 1.85713442 -0.41859311 -0.27077543 -0.80480727  0.94323339 -2.04296614\n",
            "   1.99493245 -0.5287987 ]] \n",
            "Error:  0.0006087322800913866\n",
            "Adjusted weight:  [[ 1.86235555 -0.41369204 -0.26410085 -0.79724743  0.94113553 -2.0361321\n",
            "   2.00105866 -0.52359481]] \n",
            "Error:  0.000582036616364829\n",
            "Adjusted weight:  [[ 1.86696493 -0.40925266 -0.2580472  -0.790302    0.93863324 -2.02991566\n",
            "   2.00655913 -0.51900226]] \n",
            "Error:  0.0005600861615213443\n",
            "Adjusted weight:  [[ 1.87102864 -0.40522281 -0.25254708 -0.78390497  0.9357758  -2.02425006\n",
            "   2.01150157 -0.51495507]] \n",
            "Error:  0.0005419105552428241\n",
            "Adjusted weight:  [[ 1.8746055  -0.40155607 -0.24754045 -0.77799752  0.93260701 -2.01907583\n",
            "   2.0159463  -0.51139443]] \n",
            "Error:  0.0005267399429358738\n",
            "Adjusted weight:  [[ 1.87774794 -0.3982111  -0.24297386 -0.77252726  0.92916586 -2.01434001\n",
            "   2.01994706 -0.50826798]] \n",
            "Error:  0.0005139635058971386\n",
            "Adjusted weight:  [[ 1.88050266 -0.39515116 -0.23879968 -0.76744754  0.925487   -2.00999542\n",
            "   2.02355171 -0.50552906]] \n",
            "Error:  0.0005030965693860231\n",
            "Adjusted weight:  [[ 1.88291126 -0.39234353 -0.2349755  -0.76271677  0.92160126 -2.00600004\n",
            "   2.02680286 -0.50313611]] \n",
            "Error:  0.0004937545142710873\n",
            "Adjusted weight:  [[ 1.8850108  -0.3897591  -0.23146354 -0.75829792  0.91753605 -2.00231642\n",
            "   2.0297385  -0.5010521 ]] \n",
            "Error:  0.0004856320849364643\n",
            "Adjusted weight:  [[ 1.8868343  -0.38737198 -0.22823015 -0.754158    0.91331572 -1.99891122\n",
            "   2.03239245 -0.49924403]] \n",
            "Error:  0.0004784869772368015\n",
            "Adjusted weight:  [[ 1.8884112  -0.38515916 -0.22524536 -0.7502676   0.90896191 -1.99575474\n",
            "   2.03479486 -0.4976825 ]] \n",
            "Error:  0.00047212682117701794\n",
            "Adjusted weight:  [[ 1.8897677  -0.38310014 -0.22248247 -0.74660056  0.90449387 -1.99282049\n",
            "   2.03697255 -0.49634133]] \n",
            "Error:  0.0004663988561219267\n",
            "Adjusted weight:  [[ 1.89092716 -0.38117671 -0.21991771 -0.74313351  0.89992868 -1.99008491\n",
            "   2.03894946 -0.49519717]] \n",
            "Error:  0.0004611817415894297\n",
            "Adjusted weight:  [[ 1.8919104  -0.3793727  -0.21752989 -0.73984569  0.8952815  -1.98752698\n",
            "   2.04074688 -0.49422923]] \n",
            "Error:  0.0004563790618850301\n",
            "Adjusted weight:  [[ 1.89273598 -0.3776737  -0.21530014 -0.73671854  0.89056581 -1.985128\n",
            "   2.04238379 -0.49341896]] \n",
            "Error:  0.00045191417420954396\n",
            "Adjusted weight:  [[ 1.89342043 -0.37606692 -0.21321166 -0.73373557  0.88579354 -1.98287127\n",
            "   2.04387712 -0.49274985]] \n",
            "Error:  0.0004477261223453279\n",
            "Adjusted weight:  [[ 1.89397849 -0.37454101 -0.21124948 -0.73088206  0.88097531 -1.98074194\n",
            "   2.04524194 -0.49220717]] \n",
            "Error:  0.0004437663955086797\n",
            "Adjusted weight:  [[ 1.89442329 -0.37308587 -0.20940025 -0.7281449   0.8761205  -1.97872678\n",
            "   2.04649166 -0.4917778 ]] \n",
            "Error:  0.0004399963575482165\n",
            "Adjusted weight:  [[ 1.89476655 -0.37169254 -0.20765209 -0.72551238  0.87123744 -1.97681396\n",
            "   2.04763826 -0.49145002]] \n",
            "Error:  0.00043638520783046255\n",
            "Adjusted weight:  [[ 1.89501871 -0.37035305 -0.20599443 -0.7229741   0.8663335  -1.97499299\n",
            "   2.0486924  -0.49121342]] \n",
            "Error:  0.00043290836383533623\n",
            "Adjusted weight:  [[ 1.89518908 -0.36906036 -0.20441782 -0.72052076  0.86141521 -1.97325448\n",
            "   2.04966359 -0.49105868]] \n",
            "Error:  0.0004295461782329385\n",
            "Adjusted weight:  [[ 1.89528596 -0.36780819 -0.20291387 -0.71814407  0.85648835 -1.97159007\n",
            "   2.0505603  -0.49097751]] \n",
            "Error:  0.00042628292125619264\n",
            "Adjusted weight:  [[ 1.89531676 -0.36659099 -0.20147508 -0.71583666  0.851558   -1.96999233\n",
            "   2.05139007 -0.49096251]] \n",
            "Error:  0.00042310597349482366\n",
            "Adjusted weight:  [[ 1.89528809 -0.36540385 -0.20009479 -0.71359192  0.84662867 -1.9684546\n",
            "   2.05215965 -0.49100706]] \n",
            "Error:  0.000420005185586888\n",
            "Adjusted weight:  [[ 1.89520584 -0.36424239 -0.19876705 -0.71140399  0.84170432 -1.96697096\n",
            "   2.05287504 -0.4911053 ]] \n",
            "Error:  0.0004169723702868986\n",
            "Adjusted weight:  [[ 1.89507528 -0.36310277 -0.19748657 -0.70926762  0.83678846 -1.96553614\n",
            "   2.05354158 -0.49125195]] \n",
            "Error:  0.00041400089953019386\n",
            "Adjusted weight:  [[ 1.8949011  -0.36198157 -0.19624861 -0.70717814  0.83188415 -1.96414542\n",
            "   2.05416404 -0.49144232]] \n",
            "Error:  0.0004110853847767719\n",
            "Adjusted weight:  [[ 1.89468748 -0.36087578 -0.19504897 -0.70513136  0.8269941  -1.96279461\n",
            "   2.0547467  -0.49167222]] \n",
            "Error:  0.0004082214234098762\n",
            "Adjusted weight:  [[ 1.89443819 -0.35978272 -0.19388391 -0.70312356  0.82212068 -1.96147994\n",
            "   2.05529334 -0.49193792]] \n",
            "Error:  0.00040540539752750675\n",
            "Adjusted weight:  [[ 1.89415656 -0.35870006 -0.19275007 -0.7011514   0.81726594 -1.96019808\n",
            "   2.05580735 -0.49223606]] \n",
            "Error:  0.00040263431429093575\n",
            "Adjusted weight:  [[ 1.89384557 -0.35762571 -0.19164447 -0.69921193  0.81243171 -1.95894604\n",
            "   2.05629176 -0.49256366]] \n",
            "Error:  0.0003999056792356713\n",
            "Adjusted weight:  [[ 1.89350791 -0.35655786 -0.19056446 -0.69730248  0.80761955 -1.95772115\n",
            "   2.05674927 -0.49291805]] \n",
            "Error:  0.00039721739572806534\n",
            "Adjusted weight:  [[ 1.89314597 -0.35549491 -0.18950767 -0.69542067  0.80283083 -1.95652103\n",
            "   2.05718228 -0.49329685]] \n",
            "Error:  0.00039456768516076896\n",
            "Adjusted weight:  [[ 1.89276187 -0.35443544 -0.18847197 -0.69356438  0.79806672 -1.95534356\n",
            "   2.05759296 -0.49369791]] \n",
            "Error:  0.0003919550235986076\n",
            "Adjusted weight:  [[ 1.89235753 -0.35337823 -0.18745549 -0.69173171  0.79332824 -1.95418684\n",
            "   2.05798321 -0.49411932]] \n",
            "Error:  0.0003893780914734684\n",
            "Adjusted weight:  [[ 1.89193467 -0.35232221 -0.18645653 -0.68992097  0.78861626 -1.95304916\n",
            "   2.05835476 -0.49455937]] \n",
            "Error:  0.0003868357336303409\n"
          ]
        },
        {
          "name": "stderr",
          "output_type": "stream",
          "text": [
            "C:\\Users\\rians\\AppData\\Local\\Temp\\ipykernel_3824\\2167711319.py:18: DeprecationWarning: Conversion of an array with ndim > 0 to a scalar is deprecated, and will error in future. Ensure you extract a single element from your array before performing this operation. (Deprecated NumPy 1.25.)\n",
            "  w[0][0] = w[0][0] - lr * dEw1\n",
            "C:\\Users\\rians\\AppData\\Local\\Temp\\ipykernel_3824\\2167711319.py:19: DeprecationWarning: Conversion of an array with ndim > 0 to a scalar is deprecated, and will error in future. Ensure you extract a single element from your array before performing this operation. (Deprecated NumPy 1.25.)\n",
            "  w[1][0] = w[1][0] - lr * dEw2\n",
            "C:\\Users\\rians\\AppData\\Local\\Temp\\ipykernel_3824\\2167711319.py:20: DeprecationWarning: Conversion of an array with ndim > 0 to a scalar is deprecated, and will error in future. Ensure you extract a single element from your array before performing this operation. (Deprecated NumPy 1.25.)\n",
            "  w[2][0] = w[2][0] - lr * dEw3\n",
            "C:\\Users\\rians\\AppData\\Local\\Temp\\ipykernel_3824\\2167711319.py:21: DeprecationWarning: Conversion of an array with ndim > 0 to a scalar is deprecated, and will error in future. Ensure you extract a single element from your array before performing this operation. (Deprecated NumPy 1.25.)\n",
            "  w[3][0] = w[3][0] - lr * dEw4\n",
            "C:\\Users\\rians\\AppData\\Local\\Temp\\ipykernel_3824\\2167711319.py:22: DeprecationWarning: Conversion of an array with ndim > 0 to a scalar is deprecated, and will error in future. Ensure you extract a single element from your array before performing this operation. (Deprecated NumPy 1.25.)\n",
            "  w[4][0] = w[4][0] - lr * dEw5\n",
            "C:\\Users\\rians\\AppData\\Local\\Temp\\ipykernel_3824\\2167711319.py:23: DeprecationWarning: Conversion of an array with ndim > 0 to a scalar is deprecated, and will error in future. Ensure you extract a single element from your array before performing this operation. (Deprecated NumPy 1.25.)\n",
            "  w[5][0] = w[5][0] - lr * dEw6\n",
            "C:\\Users\\rians\\AppData\\Local\\Temp\\ipykernel_3824\\2167711319.py:24: DeprecationWarning: Conversion of an array with ndim > 0 to a scalar is deprecated, and will error in future. Ensure you extract a single element from your array before performing this operation. (Deprecated NumPy 1.25.)\n",
            "  w[6][0] = w[6][0] - lr * dEw7\n",
            "C:\\Users\\rians\\AppData\\Local\\Temp\\ipykernel_3824\\2167711319.py:25: DeprecationWarning: Conversion of an array with ndim > 0 to a scalar is deprecated, and will error in future. Ensure you extract a single element from your array before performing this operation. (Deprecated NumPy 1.25.)\n",
            "  w[7][0] = w[7][0] - lr * dEw8\n"
          ]
        }
      ],
      "source": [
        "error_list = []\n",
        "for i in range(50):\n",
        "  y_pred = np.matmul(x_train,w) #Dapetin nilai y hasil dari perkalian x dgn bobot awal\n",
        "  error = (y_train-y_pred)**2 #Hitung error/selisih antara y_pred sm y aslinya\n",
        "\n",
        "  #Untuk menghitung tingkat perubahan/gradient descent/delta dari setiap bobot\n",
        "  #Selisih y_train - y_pred dikali sama nilai negatif dari x_train agar bobotnya menyesuaikan ke arah yang sesuai\n",
        "  dEw1 = 2*np.matmul((y_train-y_pred).T,(-x_train[:,0].reshape(x_train.shape[0],1)))\n",
        "  dEw2 = 2*np.matmul((y_train-y_pred).T,(-x_train[:,1].reshape(x_train.shape[0],1)))\n",
        "  dEw3 = 2*np.matmul((y_train-y_pred).T,(-x_train[:,2].reshape(x_train.shape[0],1)))\n",
        "  dEw4 = 2*np.matmul((y_train-y_pred).T,(-x_train[:,3].reshape(x_train.shape[0],1)))\n",
        "  dEw5 = 2*np.matmul((y_train-y_pred).T,(-x_train[:,4].reshape(x_train.shape[0],1)))\n",
        "  dEw6 = 2*np.matmul((y_train-y_pred).T,(-x_train[:,5].reshape(x_train.shape[0],1)))\n",
        "  dEw7 = 2*np.matmul((y_train-y_pred).T,(-x_train[:,6].reshape(x_train.shape[0],1)))\n",
        "  dEw8 = 2*np.matmul((y_train-y_pred).T,(-x_train[:,7].reshape(x_train.shape[0],1)))\n",
        "\n",
        "  #Update bobot\n",
        "  w[0][0] = w[0][0] - lr * dEw1\n",
        "  w[1][0] = w[1][0] - lr * dEw2\n",
        "  w[2][0] = w[2][0] - lr * dEw3\n",
        "  w[3][0] = w[3][0] - lr * dEw4\n",
        "  w[4][0] = w[4][0] - lr * dEw5\n",
        "  w[5][0] = w[5][0] - lr * dEw6\n",
        "  w[6][0] = w[6][0] - lr * dEw7\n",
        "  w[7][0] = w[7][0] - lr * dEw8\n",
        "\n",
        "  error_list.append(error.mean())\n",
        "  print(\"Adjusted weight: \", np.transpose(w),\n",
        "        \"\\nError: \", error.mean())"
      ]
    },
    {
      "cell_type": "code",
      "execution_count": 9,
      "metadata": {
        "colab": {
          "base_uri": "https://localhost:8080/",
          "height": 463
        },
        "id": "XWDDBEenHPp6",
        "outputId": "e9b91bd4-a92a-4acd-b922-0a2e955fee26"
      },
      "outputs": [
        {
          "name": "stdout",
          "output_type": "stream",
          "text": [
            "Train error rate:  0.0003868357336303409\n"
          ]
        },
        {
          "data": {
            "image/png": "[encoded data removed]",
            "text/plain": [
              "<Figure size 640x480 with 1 Axes>"
            ]
          },
          "metadata": {},
          "output_type": "display_data"
        }
      ],
      "source": [
        "plt.plot(error_list)\n",
        "print(\"Train error rate: \", np.mean(error))"
      ]
    },
    {
      "cell_type": "code",
      "execution_count": 10,
      "metadata": {
        "id": "Iy_Tj-lkHPsq"
      },
      "outputs": [
        {
          "name": "stdout",
          "output_type": "stream",
          "text": [
            "Test error rate:  0.0004525116717088416\n"
          ]
        }
      ],
      "source": [
        "def test_section(test_data, weight):\n",
        "    y_model = np.matmul(test_data, weight)\n",
        "    y_error = (y_model-y_test)**2\n",
        "    print(\"Test error rate: \", y_error.mean())\n",
        "\n",
        "test_section(x_test, w)"
      ]
    }
  ],
  "metadata": {
    "colab": {
      "provenance": []
    },
    "kernelspec": {
      "display_name": "Python 3",
      "name": "python3"
    },
    "language_info": {
      "codemirror_mode": {
        "name": "ipython",
        "version": 3
      },
      "file_extension": ".py",
      "mimetype": "text/x-python",
      "name": "python",
      "nbconvert_exporter": "python",
      "pygments_lexer": "ipython3",
      "version": "3.9.0"
    }
  },
  "nbformat": 4,
  "nbformat_minor": 0
}
