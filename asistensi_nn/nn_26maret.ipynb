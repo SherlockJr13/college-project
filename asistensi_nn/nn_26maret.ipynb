{
 "cells": [
  {
   "cell_type": "code",
   "execution_count": null,
   "id": "c6d47dfe-5dc9-4b8c-b550-21315986d8a0",
   "metadata": {
    "tags": []
   },
   "outputs": [],
   "source": [
    "import numpy as np\n",
    "import tensorflow as tf\n",
    "from tensorflow.keras.models import Sequential\n",
    "from tensorflow.keras.layers import Dense\n",
    "from sklearn.model_selection import train_test_split"
   ]
  },
  {
   "cell_type": "code",
   "execution_count": null,
   "id": "3dd74d46-00be-48c4-bd16-774bace60c3d",
   "metadata": {
    "tags": []
   },
   "outputs": [],
   "source": [
    "# Generate data nilai ujian secara acak untuk 100 mahasiswa\n",
    "np.random.seed(1)\n",
    "X = np.random.randint(40, 100, size=1000)  # Nilai ujian antara 40 hingga 100\n",
    "Y = (X >= 70).astype(int)  # Jika nilai >= 70 maka lulus (1), jika tidak maka gagal (0)"
   ]
  },
  {
   "cell_type": "code",
   "execution_count": null,
   "id": "cf859fcc-6449-4fe8-93fb-a0690806c506",
   "metadata": {
    "tags": []
   },
   "outputs": [],
   "source": [
    "# Membagi data menjadi data latih dan data uji\n",
    "X_train, X_test, y_train, y_test = train_test_split(X, Y, test_size=0.2, random_state=1)\n",
    "\n",
    "# Membangun model Neural Network\n",
    "model = Sequential([\n",
    "    Dense(1, activation='sigmoid', input_shape=(1,)),\n",
    "])\n",
    "\n",
    "# Kompilasi model\n",
    "model.compile(optimizer='adam',\n",
    "              loss='binary_crossentropy',\n",
    "              metrics=['accuracy'])\n",
    "\n",
    "# Melatih model dengan data latih\n",
    "model.fit(X_train, y_train, epochs=500)\n",
    "\n",
    "# Evaluasi model dengan data uji\n",
    "loss, accuracy = model.evaluate(X_test, y_test)\n",
    "print(\"Accuracy:\", accuracy)\n",
    "print(\"Loss:\", loss)\n"
   ]
  },
  {
   "cell_type": "code",
   "execution_count": null,
   "id": "a19394dc-5bcc-406c-ae55-c10243a9edfb",
   "metadata": {
    "tags": []
   },
   "outputs": [],
   "source": [
    "# Prediksi status untuk data nilai ujian baru\n",
    "test_data = ([70,80,67])  # Contoh nilai ujian baru untuk 3 mahasiswa\n",
    "predictions = model.predict(test_data)\n",
    "for i in range(len(test_data)):\n",
    "    status = \"Lulus\" if predictions[i] >= 0.5 else \"Gagal\"\n",
    "    print(\"Prediksi status untuk nilai ujian\", test_data[i], \":\", status)"
   ]
  }
 ],
 "metadata": {
  "kernelspec": {
   "display_name": "Python 3 (ipykernel)",
   "language": "python",
   "name": "python3"
  },
  "language_info": {
   "codemirror_mode": {
    "name": "ipython",
    "version": 3
   },
   "file_extension": ".py",
   "mimetype": "text/x-python",
   "name": "python",
   "nbconvert_exporter": "python",
   "pygments_lexer": "ipython3",
   "version": "3.9.0"
  }
 },
 "nbformat": 4,
 "nbformat_minor": 5
}
