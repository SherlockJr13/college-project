{
 "cells": [
  {
   "cell_type": "code",
   "execution_count": null,
   "metadata": {},
   "outputs": [],
   "source": [
    "import pandas as pd\n",
    "import numpy as np\n",
    "import matplotlib.pyplot as plt\n",
    "from scipy.stats import norm"
   ]
  },
  {
   "cell_type": "markdown",
   "metadata": {},
   "source": [
    "# Data Preprocessing"
   ]
  },
  {
   "cell_type": "code",
   "execution_count": null,
   "metadata": {},
   "outputs": [],
   "source": [
    "#Inisiasi Data dari .csv\n",
    "stock1 = pd.DataFrame(pd.read_csv(\"E:\\AKTUARIA SMT 7\\SIMULASI AKTUARIA\\DCII.JK.csv\", sep=','))\n",
    "stock2 = pd.DataFrame(pd.read_csv(\"E:\\AKTUARIA SMT 7\\SIMULASI AKTUARIA\\ICBP.JK.csv\", sep=','))\n",
    "stock3 = pd.DataFrame(pd.read_csv(\"E:\\AKTUARIA SMT 7\\SIMULASI AKTUARIA\\BBCA.JK.csv\", sep=','))\n",
    "\n",
    "#Mengambil data harga saham saat penutupan\n",
    "close_stock1 = stock1['Close']\n",
    "close_stock2 = stock2['Close']\n",
    "close_stock3 = stock3['Close']\n",
    "\n",
    "#Menggabungkan data harga saham penutupan\n",
    "data = pd.concat([close_stock1, close_stock2, close_stock3], axis=1)\n",
    "data.columns = ['DCII', 'ICBP', 'BBCA']\n",
    "\n",
    "#Mendapatkan tingkat keuntungan (return) berdasarkan harga saham penutupan\n",
    "return_data = data.pct_change()\n",
    "return_data = return_data.dropna() #Menghilangkan data dengan value NA\n",
    "print(return_data)"
   ]
  },
  {
   "cell_type": "markdown",
   "metadata": {},
   "source": [
    "# Menentukan Proporsi Saham Terbaik"
   ]
  },
  {
   "cell_type": "code",
   "execution_count": null,
   "metadata": {},
   "outputs": [],
   "source": [
    "#Inisiasi variabel pendukung\n",
    "jumlah_data_simulasi = 1000\n",
    "results = np.zeros((3, jumlah_data_simulasi))\n",
    "risks = np.zeros(jumlah_data_simulasi)\n",
    "returns = np.zeros(jumlah_data_simulasi)\n",
    "prop = np.zeros((jumlah_data_simulasi, 3))\n",
    "dot = []\n",
    "np.random.seed(1)\n",
    "#Iterasi untuk generate nilai return gabungan sebanyak jumlah data simulasi yang ditentukan\n",
    "for i in range(jumlah_data_simulasi):\n",
    "    proporsi = np.random.random(3)\n",
    "    proporsi /= np.sum(proporsi)\n",
    "    prop[i, 0] = proporsi[0]\n",
    "    prop[i, 1] = proporsi[1]\n",
    "    prop[i, 2] = proporsi[2]\n",
    "\n",
    "    for j in range(len(return_data)):\n",
    "        dot.append(np.dot(proporsi, return_data.iloc[j]))\n",
    "    \n",
    "    portfolio_return = np.mean(dot)\n",
    "    portfolio_risk = np.std(dot)\n",
    "    \n",
    "    returns[i] = portfolio_return\n",
    "    risks[i] = portfolio_risk\n",
    "    results[0, i] = proporsi[0]\n",
    "    results[1, i] = proporsi[1]\n",
    "    results[2, i] = proporsi[2]\n",
    "\n",
    "utilities = returns - 0.5 * risks**2\n",
    "max_utility_idx = np.argmax(utilities)\n",
    "proporsi_optimal = results[:, max_utility_idx]\n",
    "print('Proporsi optimal (Markowitz): ', proporsi_optimal)\n",
    "print('Return pada Proporsi Optimal: ', round(returns[max_utility_idx]*100,2), '%')\n",
    "\n",
    "# Visualisasi hasil simulasi nilai return gabungan\n",
    "plt.scatter(risks, returns, c=utilities, marker='o', cmap='viridis')\n",
    "plt.xlabel('Risiko')\n",
    "plt.ylabel('Return')\n",
    "plt.colorbar(label='Utilitas (Markowitz)')\n",
    "plt.scatter(risks[max_utility_idx], returns[max_utility_idx], marker='x', color='red', s=200, label='Optimal (Markowitz)')\n",
    "plt.legend()\n",
    "plt.show()"
   ]
  },
  {
   "cell_type": "code",
   "execution_count": null,
   "metadata": {},
   "outputs": [],
   "source": [
    "#Mendapatkan tabel return/risk hasil bangkitan\n",
    "return_risk = pd.DataFrame({'Proporsi DCII' : prop[:,0],\n",
    "                            'Proporsi ICBP' : prop[:,1],\n",
    "                            'Proporsi BBCA' : prop[:,2],\n",
    "                            'Return' : returns,\n",
    "                            'Risiko' : risks})\n",
    "return_risk.to_excel('Return dan Risiko Gabungan.xlsx', index = True)"
   ]
  },
  {
   "cell_type": "markdown",
   "metadata": {},
   "source": [
    "# Monte Carlo Simulation"
   ]
  },
  {
   "cell_type": "code",
   "execution_count": null,
   "metadata": {},
   "outputs": [],
   "source": [
    "#Menggunakan metode Empirical CDF agar distribusi data saham dapat digunakan pada generator angka acak dalam monte carlo \n",
    "def ecdf(data):\n",
    "    sorted_data = np.sort(data)\n",
    "    n = len(data)\n",
    "    y = np.arange(1, n + 1) / n\n",
    "    return sorted_data, y\n",
    "\n",
    "return_gabungan = np.dot(return_data.values, proporsi_optimal)\n",
    "x_gabungan, y_gabungan = ecdf(return_gabungan)\n",
    "\n",
    "#Melakukan simulasi monte carlo terhadap data return gabungan saham dengan proporsi optimal\n",
    "np.random.seed(1)\n",
    "montecarlosim = []\n",
    "for _ in range(len(return_data)):\n",
    "    uniform_sample = np.random.rand()\n",
    "    result = np.interp(uniform_sample, y_gabungan, x_gabungan)\n",
    "    montecarlosim.append(result)\n",
    "montecarlosim = np.array(montecarlosim)\n"
   ]
  },
  {
   "cell_type": "markdown",
   "metadata": {},
   "source": [
    "# Value at Risk"
   ]
  },
  {
   "cell_type": "code",
   "execution_count": null,
   "metadata": {},
   "outputs": [],
   "source": [
    "#Perhitungan Value at Risk awal pada data hasil simulasi monte carlo\n",
    "alpha = ([0.01, 0.05, 0.10])\n",
    "val_at_risk = pd.DataFrame()\n",
    "val_at_risk['Value'] = (montecarlosim.mean() - (montecarlosim.std() * norm.ppf(alpha)))\n",
    "print(val_at_risk)"
   ]
  },
  {
   "cell_type": "markdown",
   "metadata": {},
   "source": [
    "# Perhitungan Variasi Nilai VaR"
   ]
  },
  {
   "cell_type": "code",
   "execution_count": null,
   "metadata": {},
   "outputs": [],
   "source": [
    "#Melakukan simulasi variasi nilai VaR pada tingkat kepercayaan 99%, 95%, dan 90%\n",
    "def var_variation(ValueatRisk, Iterasi):\n",
    "    var_table = pd.DataFrame()\n",
    "    np.random.seed(1)\n",
    "    #Iterasi untuk mendapatkan variasi nilai VaR secara random\n",
    "    for i in range(Iterasi):\n",
    "        random_factors = np.random.rand(ValueatRisk.size) / 100\n",
    "        variations = ValueatRisk.values.flatten() + random_factors\n",
    "        var_table[i] = variations\n",
    "    \n",
    "    var_table = var_table.T\n",
    "    return var_table\n",
    "\n",
    "var_sim = var_variation(val_at_risk, 1000) #Menyimpan nilai VaR hasil simulasi\n",
    "var_100 = var_sim.mean() * 1000000000 #Mendapatkan nilai VaR apabila investasi sebesar Rp100.000.000,- dilakukan pada portofolio "
   ]
  },
  {
   "cell_type": "code",
   "execution_count": null,
   "metadata": {},
   "outputs": [],
   "source": [
    "var_mean = pd.DataFrame(var_sim.mean())\n",
    "label = pd.DataFrame(alpha)\n",
    "z_score = pd.DataFrame(abs(norm.ppf(alpha)))\n",
    "var_summary = pd.concat([label, z_score, val_at_risk, var_mean], axis=1)\n",
    "var_summary.columns = ['Alpha', 'Z-Score', 'VaR', 'Mean VaR']\n",
    "def kesimpulan():\n",
    "    print('Profil Portofolio')\n",
    "    print('Proporsi Saham Optimal: ', proporsi_optimal)\n",
    "    print('Expected Return (Mean): ', (round((return_gabungan.mean()*100),3)), '%')\n",
    "    print('Risiko (Std. Deviasi): ', (round(return_gabungan.std(),3)), '\\n')\n",
    "    print('Evaluasi Hasil Simulasi Monte Carlo')\n",
    "    print('Expected Return (Mean): ', (round((montecarlosim.mean()*100),3)), '%')\n",
    "    print('Risiko (Std. Deviasi): ', (round(montecarlosim.std(),3)), '\\n')\n",
    "    print('Evaluasi Perhitungan Value at Risk')\n",
    "    print(var_summary)\n",
    "\n",
    "kesimpulan()\n",
    "\n",
    "#Mendapatkan tabel VaR\n",
    "var_summary.to_excel('VaR Gabungan.xlsx', index = True)"
   ]
  }
 ],
 "metadata": {
  "kernelspec": {
   "display_name": "Python 3",
   "language": "python",
   "name": "python3"
  },
  "language_info": {
   "codemirror_mode": {
    "name": "ipython",
    "version": 3
   },
   "file_extension": ".py",
   "mimetype": "text/x-python",
   "name": "python",
   "nbconvert_exporter": "python",
   "pygments_lexer": "ipython3",
   "version": "3.9.0"
  }
 },
 "nbformat": 4,
 "nbformat_minor": 2
}
